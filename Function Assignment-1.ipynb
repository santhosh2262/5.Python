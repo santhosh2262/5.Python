{
 "cells": [
  {
   "cell_type": "code",
   "execution_count": 8,
   "id": "464fa81f",
   "metadata": {},
   "outputs": [],
   "source": [
    "#Create Function"
   ]
  },
  {
   "cell_type": "code",
   "execution_count": 21,
   "id": "4f420b54",
   "metadata": {},
   "outputs": [],
   "source": [
    "def list_ai_subfields():\n",
    "    ai_subfields = [\"Machine Learning\",\"Neural Networks\",\"Vision\",\"Robotics\",\"Speech Processing\",\"Natural Language Processing\"]\n",
    "    for subfield in ai_subfields:\n",
    "        print(subfield)\n",
    "        end=ai_subfields\n",
    "    return end    "
   ]
  },
  {
   "cell_type": "code",
   "execution_count": 22,
   "id": "42f83dab",
   "metadata": {},
   "outputs": [
    {
     "name": "stdout",
     "output_type": "stream",
     "text": [
      "Machine Learning\n",
      "Neural Networks\n",
      "Vision\n",
      "Robotics\n",
      "Speech Processing\n",
      "Natural Language Processing\n"
     ]
    },
    {
     "data": {
      "text/plain": [
       "['Machine Learning',\n",
       " 'Neural Networks',\n",
       " 'Vision',\n",
       " 'Robotics',\n",
       " 'Speech Processing',\n",
       " 'Natural Language Processing']"
      ]
     },
     "execution_count": 22,
     "metadata": {},
     "output_type": "execute_result"
    }
   ],
   "source": [
    "list_ai_subfields()"
   ]
  },
  {
   "cell_type": "code",
   "execution_count": 44,
   "id": "6a79791d",
   "metadata": {},
   "outputs": [],
   "source": [
    "def oddEven():\n",
    "    number=int(input(\"Enter a number:\"))\n",
    "    if number%2==0:\n",
    "        print(number,\"is even number\")\n",
    "        end=number,\"is even number\"\n",
    "    else:\n",
    "        print(number,\"is odd number\")\n",
    "        end=number,\"is odd number\"\n",
    "    return end    "
   ]
  },
  {
   "cell_type": "code",
   "execution_count": 43,
   "id": "949fbffd",
   "metadata": {},
   "outputs": [
    {
     "name": "stdout",
     "output_type": "stream",
     "text": [
      "Enter a number:4\n",
      "4 is even number\n"
     ]
    },
    {
     "data": {
      "text/plain": [
       "(4, 'is even number')"
      ]
     },
     "execution_count": 43,
     "metadata": {},
     "output_type": "execute_result"
    }
   ],
   "source": [
    "oddEven()"
   ]
  },
  {
   "cell_type": "code",
   "execution_count": 31,
   "id": "d99b6098",
   "metadata": {},
   "outputs": [],
   "source": [
    "def check_eligibility():\n",
    "    gender = input(\"Your Gender: \")\n",
    "    age = int(input(\"Your Age: \"))\n",
    "\n",
    "    if gender.lower() == \"male\" and age >= 18:\n",
    "        print(\"Not Eligible\")\n",
    "        eligibility = \"Not Eligible\"\n",
    "    else:\n",
    "        print(\"Eligible\")\n",
    "        eligibility = \"Eligible\"\n",
    "\n",
    "    return eligibility   "
   ]
  },
  {
   "cell_type": "code",
   "execution_count": 32,
   "id": "c3a78505",
   "metadata": {},
   "outputs": [
    {
     "name": "stdout",
     "output_type": "stream",
     "text": [
      "Your Gender: male\n",
      "Your Age: 20\n",
      "Not Eligible\n"
     ]
    },
    {
     "data": {
      "text/plain": [
       "'Not Eligible'"
      ]
     },
     "execution_count": 32,
     "metadata": {},
     "output_type": "execute_result"
    }
   ],
   "source": [
    "check_eligibility()"
   ]
  },
  {
   "cell_type": "code",
   "execution_count": 35,
   "id": "373bcbce",
   "metadata": {},
   "outputs": [],
   "source": [
    "def calculate_percentage():\n",
    "    subject1=23\n",
    "    subject2=45\n",
    "    subject3=34\n",
    "    subject4=23\n",
    "    subject5=23\n",
    "    total=subject1+subject2+subject3+subject4+subject5\n",
    "    percentage=(total/500)*100\n",
    "    print(\"Total:\",total)\n",
    "    end=\"Total:\",total\n",
    "    print(\"Percentage:\",percentage)\n",
    "    end=\"Percentage:\",percentage\n",
    "    return end"
   ]
  },
  {
   "cell_type": "code",
   "execution_count": 36,
   "id": "dcaa7cdc",
   "metadata": {},
   "outputs": [
    {
     "name": "stdout",
     "output_type": "stream",
     "text": [
      "Total: 148\n",
      "Percentage: 29.599999999999998\n"
     ]
    },
    {
     "data": {
      "text/plain": [
       "('Percentage:', 29.599999999999998)"
      ]
     },
     "execution_count": 36,
     "metadata": {},
     "output_type": "execute_result"
    }
   ],
   "source": [
    "calculate_percentage()"
   ]
  },
  {
   "cell_type": "code",
   "execution_count": 40,
   "id": "be7fed4e",
   "metadata": {},
   "outputs": [],
   "source": [
    "def calculate_triangle():\n",
    "    height=3\n",
    "    breadth=4\n",
    "    area=(height*breadth)/2\n",
    "    print(\"Area of Triangle:\",area)\n",
    "    end=\"Area of Triangle:\",area\n",
    "    height1=3\n",
    "    height2=4\n",
    "    breadth=45\n",
    "    perimeter=height1+height2+breadth\n",
    "    print(\"Perimeter of Triangle:\",perimeter)\n",
    "    end=\"Perimeter of Triangle:\",perimeter\n",
    "    return end"
   ]
  },
  {
   "cell_type": "code",
   "execution_count": 41,
   "id": "2e0b6b2f",
   "metadata": {},
   "outputs": [
    {
     "name": "stdout",
     "output_type": "stream",
     "text": [
      "Area of Triangle: 6.0\n",
      "Perimeter of Triangle: 52\n"
     ]
    },
    {
     "data": {
      "text/plain": [
       "('Perimeter of Triangle:', 52)"
      ]
     },
     "execution_count": 41,
     "metadata": {},
     "output_type": "execute_result"
    }
   ],
   "source": [
    "calculate_triangle()"
   ]
  },
  {
   "cell_type": "code",
   "execution_count": null,
   "id": "081e9e92",
   "metadata": {},
   "outputs": [],
   "source": []
  }
 ],
 "metadata": {
  "kernelspec": {
   "display_name": "Python 3 (ipykernel)",
   "language": "python",
   "name": "python3"
  },
  "language_info": {
   "codemirror_mode": {
    "name": "ipython",
    "version": 3
   },
   "file_extension": ".py",
   "mimetype": "text/x-python",
   "name": "python",
   "nbconvert_exporter": "python",
   "pygments_lexer": "ipython3",
   "version": "3.10.9"
  }
 },
 "nbformat": 4,
 "nbformat_minor": 5
}
